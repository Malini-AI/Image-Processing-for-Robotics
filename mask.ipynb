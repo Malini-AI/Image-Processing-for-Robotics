{
 "cells": [
  {
   "cell_type": "code",
   "execution_count": 1,
   "metadata": {},
   "outputs": [],
   "source": [
    "import image_slicer\n",
    "import glob\n",
    "from PIL import Image\n",
    "import glob\n",
    "import cv2 \n",
    "from scipy import misc\n",
    "import math\n",
    "import numpy as np"
   ]
  },
  {
   "cell_type": "code",
   "execution_count": 2,
   "metadata": {},
   "outputs": [
    {
     "data": {
      "text/plain": [
       "-1"
      ]
     },
     "execution_count": 2,
     "metadata": {},
     "output_type": "execute_result"
    }
   ],
   "source": [
    "img=cv2.imread(\"C:/Users/malin/OneDrive/Desktop/Robotics/ADV_ROBOTICS/png/Carpet/Type1/SQUARE/500/CROP/I500-1-rotate-CROP/crop25.png\")\n",
    "img1=cv2.imread(\"C:/Users/malin/OneDrive/Desktop/Robotics/ADV_ROBOTICS/png/Carpet/Type1/SQUARE/500/mask.png\")\n",
    "\n",
    "final_img = cv2.bitwise_or(img1, img)\n",
    "#print(final_img.shape)\n",
    "cv2.imwrite(\"mask_25\"+\".png\",final_img)\n",
    "cv2.waitKey(0)"
   ]
  },
  {
   "cell_type": "markdown",
   "metadata": {},
   "source": [
    "# All images in folder folder 500px"
   ]
  },
  {
   "cell_type": "code",
   "execution_count": 3,
   "metadata": {},
   "outputs": [],
   "source": [
    "img = []\n",
    "x = []\n",
    "\n",
    "img1=cv2.imread(\"C:/Users/malin/OneDrive/Desktop/Robotics/ADV_ROBOTICS/png/Carpet/Type1/SQUARE/500/mask.png\")\n",
    "for i in glob.glob('C:/Users/malin/OneDrive/Desktop/Robotics/ADV_ROBOTICS/png/Carpet/Type1/SQUARE/500/CROP/I500-6-rotate-CROP/*.png'):\n",
    "    n= cv2.imread(i)\n",
    "    img.append(n)"
   ]
  },
  {
   "cell_type": "code",
   "execution_count": 83,
   "metadata": {},
   "outputs": [],
   "source": [
    "for i in range(len(img)):\n",
    "    x=img[i]\n",
    "    final_img = cv2.bitwise_or(img1, x)\n",
    "    cv2.imwrite(\"I300-1-mask-\"+str(i)+\".png\",final_img)"
   ]
  },
  {
   "cell_type": "markdown",
   "metadata": {},
   "source": [
    "# # All images in folder folder 300px"
   ]
  },
  {
   "cell_type": "code",
   "execution_count": 94,
   "metadata": {},
   "outputs": [
    {
     "name": "stdout",
     "output_type": "stream",
     "text": [
      "361\n",
      "(200, 200, 3)\n",
      "(200, 200, 3)\n"
     ]
    }
   ],
   "source": [
    "img = []\n",
    "x = []\n",
    "\n",
    "img1=cv2.imread(\"C:/Users/malin/OneDrive/Desktop/Robotics/ADV_ROBOTICS/png/Carpet/Type1/SQUARE/300/mask300.png\")\n",
    "for i in glob.glob('C:/Users/malin/OneDrive/Desktop/Robotics/ADV_ROBOTICS/png/Carpet/Type1/SQUARE/300/I-300-2-CROP/*.png'):\n",
    "    n= cv2.imread(i)\n",
    "    img.append(n)\n",
    "print(len(img))\n",
    "print(img1.shape)\n",
    "print(img[1].shape)"
   ]
  },
  {
   "cell_type": "code",
   "execution_count": 7,
   "metadata": {},
   "outputs": [],
   "source": [
    "for i in range(len(img)):\n",
    "    x=img[i]\n",
    "    final_img = cv2.bitwise_or(img1, x)\n",
    "    cv2.imwrite(\"I300-2-mask-\"+str(i)+\".png\",final_img) "
   ]
  },
  {
   "cell_type": "markdown",
   "metadata": {},
   "source": [
    "# Gradient mask"
   ]
  },
  {
   "cell_type": "code",
   "execution_count": null,
   "metadata": {},
   "outputs": [],
   "source": [
    "# Then the formula for the masking should be:\n",
    "# I_maked_image =  0.5*I_mask + (I_image (1-I_mask)  "
   ]
  },
  {
   "cell_type": "code",
   "execution_count": 8,
   "metadata": {},
   "outputs": [
    {
     "data": {
      "text/plain": [
       "-1"
      ]
     },
     "execution_count": 8,
     "metadata": {},
     "output_type": "execute_result"
    }
   ],
   "source": [
    "img=cv2.imread(\"C:/Users/malin/OneDrive/Desktop/Robotics/ADV_ROBOTICS/png/Carpet/Type1/SQUARE/500/CROP/I500-1-rotate-CROP/crop25.png\")\n",
    "img1=cv2.imread(\"C:/Users/malin/OneDrive/Desktop/Robotics/ADV_ROBOTICS/png/Carpet/Type1/SQUARE/500/mask.png\")\n",
    "\n",
    "final_img = cv2.bitwise_or(img1, img)\n",
    "#print(final_img.shape)\n",
    "cv2.imwrite(\"mask_25\"+\".png\",final_img)\n",
    "cv2.waitKey(0)"
   ]
  },
  {
   "cell_type": "code",
   "execution_count": null,
   "metadata": {},
   "outputs": [],
   "source": []
  }
 ],
 "metadata": {
  "kernelspec": {
   "display_name": "Python 3",
   "language": "python",
   "name": "python3"
  },
  "language_info": {
   "codemirror_mode": {
    "name": "ipython",
    "version": 3
   },
   "file_extension": ".py",
   "mimetype": "text/x-python",
   "name": "python",
   "nbconvert_exporter": "python",
   "pygments_lexer": "ipython3",
   "version": "3.7.3"
  }
 },
 "nbformat": 4,
 "nbformat_minor": 2
}
